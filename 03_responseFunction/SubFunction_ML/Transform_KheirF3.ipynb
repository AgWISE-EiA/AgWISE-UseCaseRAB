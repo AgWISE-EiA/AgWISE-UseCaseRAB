{
  "nbformat": 4,
  "nbformat_minor": 0,
  "metadata": {
    "colab": {
      "provenance": [],
      "toc_visible": true
    },
    "kernelspec": {
      "name": "python3",
      "display_name": "Python 3"
    },
    "language_info": {
      "name": "python"
    }
  },
  "cells": [
    {
      "cell_type": "markdown",
      "source": [
        "# Importing"
      ],
      "metadata": {
        "id": "3KjNOUDZwoVZ"
      }
    },
    {
      "cell_type": "code",
      "execution_count": 1,
      "metadata": {
        "id": "BIwsttacm73p"
      },
      "outputs": [],
      "source": [
        "import os\n",
        "import random\n",
        "import warnings\n",
        "import numpy as np\n",
        "import pandas as pd\n",
        "from scipy import stats\n",
        "import matplotlib.pyplot as plt\n",
        "from sklearn import ensemble,neural_network,neighbors,svm,model_selection,inspection\n",
        "warnings.simplefilter(action='ignore')"
      ]
    },
    {
      "cell_type": "markdown",
      "source": [
        "# Mount Drive"
      ],
      "metadata": {
        "id": "4hYjXowTwrYi"
      }
    },
    {
      "cell_type": "code",
      "source": [
        "from google.colab import drive\n",
        "drive.mount('/content/drive')"
      ],
      "metadata": {
        "id": "NAlVuRyRnA3m",
        "colab": {
          "base_uri": "https://localhost:8080/"
        },
        "outputId": "b1c659c8-5a46-4fbe-dc8f-7b7e01f5fc45"
      },
      "execution_count": 2,
      "outputs": [
        {
          "output_type": "stream",
          "name": "stdout",
          "text": [
            "Mounted at /content/drive\n"
          ]
        }
      ]
    },
    {
      "cell_type": "markdown",
      "source": [
        "# Functions"
      ],
      "metadata": {
        "id": "9AElPeJawwbS"
      }
    },
    {
      "cell_type": "code",
      "source": [
        "def performanceStatistics(x, y):\n",
        "  E = y - x                       # Error\n",
        "  AE = np.abs(E)                  # Absolute Error\n",
        "  MAE = np.mean(AE)               # Mean Absolute Error\n",
        "  SE = np.power(E, 2)             # Square Error\n",
        "  MSE = np.mean(SE)               # Mean Square Error (this method is the best)\n",
        "  RMSE = np.sqrt(MSE)             # Root Mean Square Error\n",
        "  RB = ((np.mean(y) - np.mean(x)) / np.mean(x)) * 100\n",
        "  slope, intercept, r_value, p_value, std_err = stats.linregress(x, y)\n",
        "  R2 = np.power(r_value, 2)       # correlation of determination\n",
        "  stat = {'R2':round(R2, 2),\n",
        "          'RB':round(RB, 2),\n",
        "          'MAE':round(MAE, 2),\n",
        "          'RMSE':round(RMSE, 2),\n",
        "          'n':len(E)}\n",
        "  return stat\n",
        "\n",
        "def plotOriginalPredicted(Original, Predicted, outFile, label=''):\n",
        "  minX = np.min(Original)\n",
        "  maxX = np.max(Original)\n",
        "  minY = np.min(Predicted)\n",
        "  maxY = np.max(Predicted)\n",
        "  minXY = np.min(np.array([minX, minY]))\n",
        "  maxXY = np.min(np.array([maxX, maxY]))\n",
        "  fs = 26\n",
        "  fig = plt.figure(figsize=(15, 15))\n",
        "  plt.scatter(Original, Predicted, color='blue', label=label)\n",
        "  plt.plot(np.linspace(minXY, maxXY, 50), np.linspace(minXY, maxXY, 50), color='red', linestyle='-', linewidth=1, markersize=5, label='1:1 Line')\n",
        "  plt.xlim([minXY, maxXY])\n",
        "  plt.ylim([minXY, maxXY])\n",
        "  plt.xticks(size = fs)\n",
        "  plt.yticks(size = fs)\n",
        "  plt.xlabel('Original yield (kg/yr)', fontsize=fs)\n",
        "  plt.ylabel('Predicted yield (kg/yr)', fontsize=fs)\n",
        "  \n",
        "  stat = performanceStatistics(Original, Predicted)\n",
        "  digits = 2\n",
        "  n = round(stat['n'], digits)\n",
        "  r2 = round(stat['R2'], digits)\n",
        "  RB = round(stat['RB'], digits)\n",
        "  MAE = round(stat['MAE'], digits)\n",
        "  RMSE = round(stat['RMSE'], digits)\n",
        "  s = 'n={} \\n$R^2$={}\\nRB={} (%)\\nMAE={} (kg/yr)\\nRMSE={} (kg/yr)'.format(n, r2, RB, MAE, RMSE)\n",
        "  plt.text(x=(minXY + 100), y=(maxXY - 100), s=s, horizontalalignment='left', verticalalignment='top', color='black', fontsize=fs)\n",
        "  plt.legend(loc=9, fontsize=fs)\n",
        "  plt.savefig(outFile, dpi=300, bbox_inches='tight')\n",
        "  plt.clf()\n",
        "  plt.close()\n",
        "\n",
        "def hyperparameters(n):\n",
        "  \n",
        "  RFR_param_grid = dict(n_estimators = [i for i in range(100, 2050, 50)],\n",
        "                        max_features = ['auto', 'sqrt', 'log2'],\n",
        "                        )\n",
        "\n",
        "  \n",
        "   \n",
        "  \n",
        "  MLA = {\n",
        "      # https://scikit-learn.org/stable/modules/generated/sklearn.ensemble.RandomForestRegressor.html\n",
        "      'RFR':[ensemble.RandomForestRegressor(random_state=0, verbose=False), RFR_param_grid]      }\n",
        "\n",
        "  return MLA"
      ],
      "metadata": {
        "id": "DuwO5_WSnb6l"
      },
      "execution_count": 3,
      "outputs": []
    },
    {
      "cell_type": "markdown",
      "source": [
        "# Features"
      ],
      "metadata": {
        "id": "bNSdbKY4w0GS"
      }
    },
    {
      "cell_type": "code",
      "source": [
        "xFeatures = ['Long','Lat','dem','slope','B_0-30cm','N_0-30cm','Ptot_0-30cm',\n",
        "             'c.tot.0-20cm','clay.tot.psa_0-20cm','clay.tot.psa_20-50cm','db.od_0-20cm','db.od_20-50cm',\n",
        "            'oc_0-20cm','silt.tot.psa_0-20cm','silt.tot.psa_20-50cm',\n",
        "            'SOM_0-20cm','PWP_0-20cm','PWP_20-50cm','FC_0-20cm','FC_20-50cm','N',\n",
        "             'P','K']\n",
        "\n",
        "yFeatur = 'Yield'"
      ],
      "metadata": {
        "id": "3z9Ou_F-nw2M"
      },
      "execution_count": 4,
      "outputs": []
    },
    {
      "cell_type": "markdown",
      "source": [
        "# Workspace"
      ],
      "metadata": {
        "id": "5FjXd9PA1Yrg"
      }
    },
    {
      "cell_type": "code",
      "source": [
        "workspace = '/content/drive/My Drive/Transform3'\n",
        "dataFile  = os.path.join(workspace, 'DatasetTraining.csv')"
      ],
      "metadata": {
        "id": "NWei89Ot1Naf"
      },
      "execution_count": 5,
      "outputs": []
    },
    {
      "cell_type": "markdown",
      "source": [
        "# Models training and testing"
      ],
      "metadata": {
        "id": "Vtv1K-VDwcHM"
      }
    },
    {
      "cell_type": "code",
      "source": [
        "df = pd.read_csv('/content/drive/My Drive/Transform3/DatasetTraining.csv')\n",
        "Xdf = df[xFeatures]\n",
        "ydf = df[[yFeatur]]\n",
        "\n",
        "X = df[xFeatures]\n",
        "y = df[[yFeatur]]\n",
        "X = (X - Xdf.mean()) / Xdf.std()\n",
        "y = (y - ydf.mean()) / ydf.std()\n",
        "df = pd.concat([X, y], axis = 1)\n",
        "df = df.dropna()\n",
        "X = df[xFeatures]\n",
        "y = df[[yFeatur]]\n",
        "X_train, X_test, y_train, y_test = model_selection.train_test_split(X, y, test_size=0.25, random_state=0)\n",
        "\n",
        "n = len(xFeatures)\n",
        "MLA = hyperparameters(n)\n",
        "for idMLA, mlaL_mlaA in enumerate(MLA.items()):\n",
        "  mlaL, mlaA = mlaL_mlaA\n",
        "  estimator = mlaA[0]\n",
        "  param_grid = mlaA[1]\n",
        "  GSCV = model_selection.GridSearchCV(estimator, param_grid, scoring='r2', cv=5, refit=True, verbose=False, n_jobs=-1)\n",
        "  GSCV.fit(X_train, y_train)\n",
        "  bestEstimator = GSCV.best_estimator_ \n",
        "\n",
        "  OriginalYield_test  = y_test.values.flatten()\n",
        "  PredictedYield_test = bestEstimator.predict(X_test).flatten()\n",
        "  OriginalYield_test  = (float(ydf.std()) * OriginalYield_test) + float(ydf.mean())\n",
        "  PredictedYield_test = (float(ydf.std()) * PredictedYield_test) + float(ydf.mean())\n",
        "  \n",
        "  outFile     = os.path.join(workspace, '{}_plot_DefaultML_{}.png'.format(mlaL, n))\n",
        "  Stats       = os.path.join(workspace, '{}_Stats_DefaultML_{}.xlsx'.format(mlaL, n))\n",
        "  Importances = os.path.join(workspace, '{}_Importances_DefaultML_{}.xlsx'.format(mlaL, n))\n",
        "\n",
        "  plotOriginalPredicted(OriginalYield_test, PredictedYield_test, outFile, label='Predicted yield of {}'.format(mlaL))\n",
        "  df_stats = performanceStatistics(OriginalYield_test, PredictedYield_test)\n",
        "  print(mlaL, df_stats)\n",
        "\n",
        "  df_GSCV = pd.DataFrame(GSCV.cv_results_)\n",
        "  df_GSCV = df_GSCV.sort_values(by='rank_test_score', ascending=True)\n",
        "  df_GSCV = df_GSCV.head(1)\n",
        "  for i in list(df_GSCV.columns):\n",
        "    df_stats[i] = df_GSCV[i].values.tolist()[0]\n",
        "  df_stats = pd.DataFrame.from_dict(df_stats, orient='index').T\n",
        "  df_stats.to_excel(Stats, index=False)\n",
        "  \n",
        "  pi = inspection.permutation_importance(bestEstimator, X_train, y_train, n_jobs=-1, random_state=0).importances_mean\n",
        "  pi = [((i / pi.sum()) * 100) for i in pi]\n",
        "  dfImportances = pd.DataFrame(data=[pi], columns=xFeatures).round(2)\n",
        "  dfImportances.to_excel(Importances, index=False)"
      ],
      "metadata": {
        "id": "EvfbyWCRYkw9",
        "colab": {
          "base_uri": "https://localhost:8080/"
        },
        "outputId": "c2c01894-01e3-4a24-d51f-1d0169f72d93"
      },
      "execution_count": 6,
      "outputs": [
        {
          "output_type": "stream",
          "name": "stdout",
          "text": [
            "RFR {'R2': 0.0, 'RB': -0.06, 'MAE': 385.39, 'RMSE': 444.21, 'n': 232}\n"
          ]
        }
      ]
    }
  ]
}